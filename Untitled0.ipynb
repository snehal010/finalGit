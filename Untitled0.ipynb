{
  "nbformat": 4,
  "nbformat_minor": 0,
  "metadata": {
    "colab": {
      "provenance": [],
      "collapsed_sections": [],
      "authorship_tag": "ABX9TyPQCLiZgR75Yxadz5VwglSM",
      "include_colab_link": true
    },
    "kernelspec": {
      "name": "python3",
      "display_name": "Python 3"
    },
    "language_info": {
      "name": "python"
    }
  },
  "cells": [
    {
      "cell_type": "markdown",
      "metadata": {
        "id": "view-in-github",
        "colab_type": "text"
      },
      "source": [
        "<a href=\"https://colab.research.google.com/github/snehal010/finalGit/blob/main/Untitled0.ipynb\" target=\"_parent\"><img src=\"https://colab.research.google.com/assets/colab-badge.svg\" alt=\"Open In Colab\"/></a>"
      ]
    },
    {
      "cell_type": "code",
      "execution_count": 5,
      "metadata": {
        "id": "8DAeVFE_kK3A",
        "colab": {
          "base_uri": "https://localhost:8080/"
        },
        "outputId": "cf94188a-b015-400e-ddc0-de90ac06fdb9"
      },
      "outputs": [
        {
          "output_type": "stream",
          "name": "stdout",
          "text": [
            "6\n",
            "Bhopal\n",
            "Aizawl\n"
          ]
        }
      ],
      "source": [
        "Capital_states = [\"Mumbai\",\"Kohina\",\"Imphal\",\"Bhopal\",\"shilong\",\"Aizawl\"]\n",
        "\n",
        "# find the length of list capital_states\n",
        "\n",
        "print(len(Capital_states))\n"
      ]
    },
    {
      "cell_type": "code",
      "source": [
        "#print below items using indexing in the list capital_states\n",
        "#output should be:\"Bhopal\"\n",
        "#output should be:\"Kohima\"\n",
        "\n",
        "\n",
        "print(Capital_states[3])\n",
        "print(Capital_states[5])"
      ],
      "metadata": {
        "colab": {
          "base_uri": "https://localhost:8080/"
        },
        "id": "3rT2Srqzn7MF",
        "outputId": "2e24f620-6c70-4c73-d8fc-1a3af4d3d5fe"
      },
      "execution_count": 9,
      "outputs": [
        {
          "output_type": "stream",
          "name": "stdout",
          "text": [
            "Bhopal\n",
            "Aizawl\n"
          ]
        }
      ]
    },
    {
      "cell_type": "markdown",
      "source": [],
      "metadata": {
        "id": "bZDN8kdQkMLp"
      }
    },
    {
      "cell_type": "code",
      "source": [
        "# find the length of list \n",
        "\n",
        "Z = ['',\"\",\"\",\"\",\"\"]\n",
        "print(len(Z))\n",
        "Z=[None]\n",
        "print(len(Z))"
      ],
      "metadata": {
        "id": "eQkDu8zskMtX",
        "colab": {
          "base_uri": "https://localhost:8080/"
        },
        "outputId": "a2c5bbc0-9392-447c-c811-e6100c37e977"
      },
      "execution_count": 8,
      "outputs": [
        {
          "output_type": "stream",
          "name": "stdout",
          "text": [
            "5\n",
            "1\n"
          ]
        }
      ]
    },
    {
      "cell_type": "code",
      "source": [],
      "metadata": {
        "id": "BZdLfPJGnlGB"
      },
      "execution_count": null,
      "outputs": []
    }
  ]
}